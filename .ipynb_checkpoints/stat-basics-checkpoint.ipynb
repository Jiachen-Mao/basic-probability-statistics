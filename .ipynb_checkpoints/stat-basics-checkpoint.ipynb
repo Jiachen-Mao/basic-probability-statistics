{
 "cells": [
  {
   "cell_type": "code",
   "execution_count": 1,
   "metadata": {},
   "outputs": [
    {
     "name": "stdout",
     "output_type": "stream",
     "text": [
      "10\n",
      "64630 11735 14216 99233 14470 4978 73429 38120 51135 67060\n",
      "43900.6\n",
      "44627.5\n",
      "4978\n"
     ]
    }
   ],
   "source": [
    "# Mean, median, and mode\n",
    "\n",
    "import numpy as np\n",
    "from scipy import stats\n",
    "\n",
    "n = int(input())\n",
    "arr = list(map(int, input().split()))\n",
    "\n",
    "print(np.mean(arr))\n",
    "print(np.median(arr))\n",
    "print(stats.mode(arr)[0][0])"
   ]
  },
  {
   "cell_type": "code",
   "execution_count": 3,
   "metadata": {},
   "outputs": [
    {
     "name": "stdout",
     "output_type": "stream",
     "text": [
      "5\n",
      "10 40 30 50 20\n",
      "1 2 3 4 5\n",
      "32.0\n"
     ]
    }
   ],
   "source": [
    "# Weighted mean\n",
    "\n",
    "n = int(input())\n",
    "arr = list(map(int, input().split()))\n",
    "weights = list(map(int, input().split()))\n",
    "\n",
    "print(round(sum([arr[x]*weights[x] for x in range(len(arr))]) / sum(weights), 1))"
   ]
  },
  {
   "cell_type": "code",
   "execution_count": 4,
   "metadata": {},
   "outputs": [
    {
     "name": "stdout",
     "output_type": "stream",
     "text": [
      "9\n",
      "3 7 8 5 12 14 21 13 18\n",
      "6\n",
      "12\n",
      "16\n"
     ]
    }
   ],
   "source": [
    "# Quartiles\n",
    "\n",
    "def find_median(arr):\n",
    "    if len(arr) % 2 == 1:\n",
    "        return arr[len(arr) // 2]\n",
    "    else:\n",
    "        return (arr[len(arr) // 2] + arr[len(arr) // 2 - 1]) // 2\n",
    "    \n",
    "n = input()\n",
    "arr = sorted(list(map(int, input().split())))\n",
    "\n",
    "print(find_median(arr[:len(arr)//2]))\n",
    "print(find_median(arr))\n",
    "print(find_median(arr[len(arr)//2 + len(arr) % 2:]))"
   ]
  },
  {
   "cell_type": "code",
   "execution_count": 7,
   "metadata": {},
   "outputs": [
    {
     "name": "stdout",
     "output_type": "stream",
     "text": [
      "6\n",
      "6 12 8 10 20 16\n",
      "5 4 3 2 1 5\n",
      "9.0\n"
     ]
    }
   ],
   "source": [
    "# Interquartile range\n",
    "\n",
    "def find_median(arr):\n",
    "    if len(arr) % 2 == 1:\n",
    "        return arr[len(arr) // 2]\n",
    "    else:\n",
    "        return (arr[len(arr) // 2] + arr[len(arr) // 2 - 1]) // 2\n",
    "    \n",
    "n = int(input())\n",
    "values = list(map(int, input().split()))\n",
    "freq = list(map(int, input().split()))\n",
    "arr = []\n",
    "\n",
    "for i in range(n):\n",
    "    arr += [values[i]] * freq[i]\n",
    "arr = sorted(arr)\n",
    "\n",
    "iqr = float(find_median(arr[len(arr)//2 + len(arr)%2:]) - \n",
    "           find_median(arr[:len(arr)//2]))\n",
    "print(iqr)"
   ]
  },
  {
   "cell_type": "code",
   "execution_count": 9,
   "metadata": {},
   "outputs": [
    {
     "name": "stdout",
     "output_type": "stream",
     "text": [
      "5\n",
      "10 40 30 50 20\n",
      "14.1\n"
     ]
    }
   ],
   "source": [
    "# Standard deviation\n",
    "\n",
    "n = int(input())\n",
    "arr = list(map(int, input().split()))\n",
    "avg = sum(arr) / len(arr)\n",
    "std = round((sum([(arr[x] - avg)**2 for x in range(n)])/n)**(1/2),1)\n",
    "print(std)"
   ]
  },
  {
   "cell_type": "code",
   "execution_count": 10,
   "metadata": {},
   "outputs": [
    {
     "name": "stdout",
     "output_type": "stream",
     "text": [
      "0.696\n"
     ]
    }
   ],
   "source": [
    "# Binomial distribution I\n",
    "\n",
    "import math\n",
    "\n",
    "p = 1.09/(1+1.09)\n",
    "ans = 0\n",
    "\n",
    "for i in range(3):\n",
    "    ans += math.factorial(6) / math.factorial(i) / math.factorial(6-i)* p**i * (1-p)**(6-i)\n",
    "    \n",
    "print(round(1 - ans, 3))"
   ]
  },
  {
   "cell_type": "code",
   "execution_count": 11,
   "metadata": {},
   "outputs": [
    {
     "name": "stdout",
     "output_type": "stream",
     "text": [
      "0.891\n",
      "0.342\n"
     ]
    }
   ],
   "source": [
    "# Binomial distribution II\n",
    "\n",
    "import math\n",
    "\n",
    "p = 0.12\n",
    "ans1 = 0\n",
    "\n",
    "for i in range(0, 3):\n",
    "    ans1 += math.factorial(10) / math.factorial(i) / math.factorial(10-i) * p**i * (1-p)**(10-i)\n",
    "    if i == 1:\n",
    "        ans2 = 1 - ans1\n",
    "        \n",
    "print(round(ans1, 3))\n",
    "print(round(ans2, 3))"
   ]
  },
  {
   "cell_type": "code",
   "execution_count": 12,
   "metadata": {},
   "outputs": [
    {
     "name": "stdout",
     "output_type": "stream",
     "text": [
      "0.066\n"
     ]
    }
   ],
   "source": [
    "# Geometric distribution I\n",
    "\n",
    "p = 1 / 3\n",
    "print(round((1-p)**4*p, 3))"
   ]
  },
  {
   "cell_type": "code",
   "execution_count": 13,
   "metadata": {},
   "outputs": [
    {
     "name": "stdout",
     "output_type": "stream",
     "text": [
      "0.067\n"
     ]
    }
   ],
   "source": [
    "# Poisson distribution I\n",
    "\n",
    "import math\n",
    "\n",
    "l = 2.5\n",
    "k = 5\n",
    "\n",
    "print(round(l**k * math.exp(-l)/math.factorial(k), 3))"
   ]
  },
  {
   "cell_type": "code",
   "execution_count": 15,
   "metadata": {},
   "outputs": [
    {
     "name": "stdout",
     "output_type": "stream",
     "text": [
      "226.176\n",
      "286.1\n"
     ]
    }
   ],
   "source": [
    "# Poisson distribution II\n",
    "\n",
    "print(round(160 + 40*(0.88**2 + 0.88), 3))\n",
    "print(round(128 + 40*(1.55**2 + 1.55), 3))"
   ]
  },
  {
   "cell_type": "code",
   "execution_count": 16,
   "metadata": {},
   "outputs": [
    {
     "name": "stdout",
     "output_type": "stream",
     "text": [
      "0.408\n",
      "0.176\n"
     ]
    }
   ],
   "source": [
    "# Normal distribution I\n",
    "\n",
    "import math\n",
    "\n",
    "def cdf(x, mean, std):\n",
    "    return 1/2*(1 + math.erf(x - mean) / std / 2**0.5)\n",
    "\n",
    "mean = 20\n",
    "std = 2\n",
    "\n",
    "print(round(cdf(19.5, mean, std), 3))\n",
    "print(round(cdf(22, mean, std) - cdf(20, mean, std), 3))"
   ]
  },
  {
   "cell_type": "code",
   "execution_count": 17,
   "metadata": {},
   "outputs": [
    {
     "name": "stdout",
     "output_type": "stream",
     "text": [
      "0.46\n",
      "0.54\n",
      "0.46\n"
     ]
    }
   ],
   "source": [
    "# Normal distribution II\n",
    "\n",
    "import math\n",
    "\n",
    "def cdf(x, mean, std):\n",
    "    return 1/2*(1 + math.erf(x - mean) / std / 2**0.5)\n",
    "\n",
    "mean = 70\n",
    "std = 10\n",
    "\n",
    "print(round(1 - cdf(80, mean, std), 2))\n",
    "print(round(1 - cdf(60, mean, std), 2))\n",
    "print(round(cdf(60, mean, std), 2))"
   ]
  },
  {
   "cell_type": "code",
   "execution_count": 18,
   "metadata": {},
   "outputs": [
    {
     "name": "stdout",
     "output_type": "stream",
     "text": [
      "0.4966\n",
      "0.4764\n"
     ]
    }
   ],
   "source": [
    "# Central Limit Theorem I\n",
    "\n",
    "import math\n",
    "\n",
    "def cdf(x, mean, std):\n",
    "    return 1/2*(1 + math.erf(x - mean) / std / 2**0.5)\n",
    "\n",
    "mean = 205\n",
    "std = 15\n",
    "n = 49\n",
    "target= 9800\n",
    "\n",
    "mean_s = n*mean\n",
    "std_s = std*n**0.5\n",
    "\n",
    "print(round(cdf(target, mean_s, std_s), 4))\n",
    "print(round(cdf(target/n, mean, std), 4))"
   ]
  },
  {
   "cell_type": "code",
   "execution_count": 19,
   "metadata": {},
   "outputs": [
    {
     "name": "stdout",
     "output_type": "stream",
     "text": [
      "484.32\n",
      "515.68\n"
     ]
    }
   ],
   "source": [
    "# Central Limit Theorem II\n",
    "\n",
    "mean = 500\n",
    "std = 80\n",
    "n = 100\n",
    "z = 1.96\n",
    "\n",
    "mean = mean\n",
    "std = std / n**0.5\n",
    "\n",
    "print(round(mean - std*z, 2))\n",
    "print(round(mean + std*z, 2))"
   ]
  },
  {
   "cell_type": "code",
   "execution_count": null,
   "metadata": {},
   "outputs": [],
   "source": []
  }
 ],
 "metadata": {
  "kernelspec": {
   "display_name": "Python 3",
   "language": "python",
   "name": "python3"
  },
  "language_info": {
   "codemirror_mode": {
    "name": "ipython",
    "version": 3
   },
   "file_extension": ".py",
   "mimetype": "text/x-python",
   "name": "python",
   "nbconvert_exporter": "python",
   "pygments_lexer": "ipython3",
   "version": "3.7.3"
  }
 },
 "nbformat": 4,
 "nbformat_minor": 2
}
