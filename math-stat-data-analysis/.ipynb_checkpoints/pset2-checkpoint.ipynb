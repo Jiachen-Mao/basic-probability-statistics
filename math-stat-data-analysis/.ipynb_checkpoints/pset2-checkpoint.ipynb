{
 "cells": [
  {
   "cell_type": "code",
   "execution_count": 17,
   "metadata": {},
   "outputs": [],
   "source": [
    "x.NumberofCells <- c(0:12)\n",
    "Counts.conc1 <- c(213, 128, 37, 18, 3, 1, 0, 0, 0, 0, 0, 0, 0)\n",
    "Counts.conc2 <- c(103, 143, 98, 42, 8, 4, 2, 0, 0, 0, 0, 0, 0)\n",
    "Counts.conc3 <- c(75, 103, 121, 54, 30, 13, 2, 1, 0, 1, 0, 0, 0)\n",
    "Counts.conc4 <- c(0, 20, 43, 53, 86, 70, 54, 37, 18, 10, 5, 2, 2)"
   ]
  },
  {
   "cell_type": "code",
   "execution_count": 18,
   "metadata": {},
   "outputs": [],
   "source": [
    "mu1hat.conc1 = sum(Counts.conc1 * x.NumberofCells) / sum(Counts.conc1)\n",
    "mu2hat.conc1 = sum(Counts.conc1 * (x.NumberofCells)^2) / sum(Counts.conc1)\n",
    "mu1hat.conc2 = sum(Counts.conc2 * x.NumberofCells)/sum(Counts.conc2)\n",
    "mu2hat.conc2 = sum(Counts.conc2 * (x.NumberofCells)^2)/sum(Counts.conc2)\n",
    "mu1hat.conc3 = sum(Counts.conc3 * x.NumberofCells)/sum(Counts.conc3)\n",
    "mu2hat.conc3 = sum(Counts.conc3 * (x.NumberofCells)^2)/sum(Counts.conc3)\n",
    "mu1hat.conc4 = sum(Counts.conc4 * x.NumberofCells)/sum(Counts.conc4)\n",
    "mu2hat.conc4 = sum(Counts.conc4 * (x.NumberofCells)^2)/sum(Counts.conc4)\n",
    "\n",
    "mu2hat.conc1 = mu2hat.conc1 - mu1hat.conc1^2\n",
    "mu2hat.conc2 = mu2hat.conc2 - mu1hat.conc2^2\n",
    "mu2hat.conc3 = mu2hat.conc3 - mu1hat.conc3^2\n",
    "mu2hat.conc4 = mu2hat.conc4 - mu1hat.conc4^2"
   ]
  },
  {
   "cell_type": "code",
   "execution_count": 19,
   "metadata": {},
   "outputs": [
    {
     "name": "stdout",
     "output_type": "stream",
     "text": [
      "[1] 0.6825 1.3225 1.8000 4.6800\n"
     ]
    }
   ],
   "source": [
    "mu1 <- c(mu1hat.conc1, mu1hat.conc2, mu1hat.conc3, mu1hat.conc4)\n",
    "print(mu1)"
   ]
  },
  {
   "cell_type": "code",
   "execution_count": 20,
   "metadata": {},
   "outputs": [
    {
     "name": "stdout",
     "output_type": "stream",
     "text": [
      "[1] 0.8116938 1.2834938 1.9600000 4.4576000\n"
     ]
    }
   ],
   "source": [
    "mu2 <- c(mu2hat.conc1, mu2hat.conc2, mu2hat.conc3, mu2hat.conc4)\n",
    "print(mu2)"
   ]
  },
  {
   "cell_type": "code",
   "execution_count": 21,
   "metadata": {},
   "outputs": [
    {
     "data": {
      "image/png": "[encoded data removed]",
      "text/plain": [
       "Plot with title \"Histogram of simulated.lambdahatB\""
      ]
     },
     "metadata": {},
     "output_type": "display_data"
    }
   ],
   "source": [
    "# Simulate n = 400 samples with lambda = 0.6825, with n.simulations = 1000\n",
    "\n",
    "sample.n = 400\n",
    "n.simulations = 1000\n",
    "xmat = matrix(rpois(sample.n * n.simulations, lambda = 0.6825), nrow = sample.n, ncol = n.simulations)\n",
    "\n",
    "simulated.hatmu1 = colMeans(xmat)\n",
    "simulated.hatmu2 = colMeans(xmat^2)\n",
    "simulated.lambdahatA = simulated.hatmu1\n",
    "simulated.lambdahatB = simulated.hatmu2 - (simulated.hatmu1)^2\n",
    "\n",
    "# Graph histograms of the sampling distributions\n",
    "par(mfcol = c(2, 1))\n",
    "hist(simulated.lambdahatA, breaks = 100)\n",
    "hist(simulated.lambdahatB, breaks = 100)"
   ]
  },
  {
   "cell_type": "code",
   "execution_count": 22,
   "metadata": {},
   "outputs": [
    {
     "data": {
      "text/html": [
       "0.6823025"
      ],
      "text/latex": [
       "0.6823025"
      ],
      "text/markdown": [
       "0.6823025"
      ],
      "text/plain": [
       "[1] 0.6823025"
      ]
     },
     "metadata": {},
     "output_type": "display_data"
    }
   ],
   "source": [
    "mean(simulated.lambdahatA)"
   ]
  },
  {
   "cell_type": "code",
   "execution_count": 23,
   "metadata": {},
   "outputs": [
    {
     "data": {
      "text/html": [
       "0.0416459978015041"
      ],
      "text/latex": [
       "0.0416459978015041"
      ],
      "text/markdown": [
       "0.0416459978015041"
      ],
      "text/plain": [
       "[1] 0.041646"
      ]
     },
     "metadata": {},
     "output_type": "display_data"
    }
   ],
   "source": [
    "sqrt(var(simulated.lambdahatA))"
   ]
  },
  {
   "cell_type": "code",
   "execution_count": 24,
   "metadata": {},
   "outputs": [
    {
     "data": {
      "text/html": [
       "0.68411814375"
      ],
      "text/latex": [
       "0.68411814375"
      ],
      "text/markdown": [
       "0.68411814375"
      ],
      "text/plain": [
       "[1] 0.6841181"
      ]
     },
     "metadata": {},
     "output_type": "display_data"
    }
   ],
   "source": [
    "mean(simulated.lambdahatB)"
   ]
  },
  {
   "cell_type": "code",
   "execution_count": 25,
   "metadata": {},
   "outputs": [
    {
     "data": {
      "text/html": [
       "0.0624941724302646"
      ],
      "text/latex": [
       "0.0624941724302646"
      ],
      "text/markdown": [
       "0.0624941724302646"
      ],
      "text/plain": [
       "[1] 0.06249417"
      ]
     },
     "metadata": {},
     "output_type": "display_data"
    }
   ],
   "source": [
    "sqrt(var(simulated.lambdahatB))"
   ]
  },
  {
   "cell_type": "code",
   "execution_count": 26,
   "metadata": {},
   "outputs": [
    {
     "data": {
      "image/png": "[encoded data removed]",
      "text/plain": [
       "plot without title"
      ]
     },
     "metadata": {},
     "output_type": "display_data"
    }
   ],
   "source": [
    "ExpectedCountsA.conc1 = 400 * dpois(x.NumberofCells, lambda = 0.6825)\n",
    "tabA <- cbind(Counts.conc1, ExpectedCountsA.conc1, DiffA = Counts.conc1 - ExpectedCountsA.conc1)\n",
    "\n",
    "ExpectedCountsB.conc1 = 400 * dpois(x.NumberofCells, lambda = 0.8117)\n",
    "tabB <- cbind(Counts.conc1, ExpectedCountsB.conc1, DiffB = Counts.conc1 - ExpectedCountsB.conc1)\n",
    "\n",
    "par(mfcol = c(1, 1))\n",
    "plot(tabA[, \"DiffA\"], tabB[, \"DiffB\"])\n",
    "abline(a = 0, b = 1)"
   ]
  }
 ],
 "metadata": {
  "kernelspec": {
   "display_name": "R",
   "language": "R",
   "name": "ir"
  },
  "language_info": {
   "codemirror_mode": "r",
   "file_extension": ".r",
   "mimetype": "text/x-r-source",
   "name": "R",
   "pygments_lexer": "r",
   "version": "3.5.1"
  }
 },
 "nbformat": 4,
 "nbformat_minor": 2
}
