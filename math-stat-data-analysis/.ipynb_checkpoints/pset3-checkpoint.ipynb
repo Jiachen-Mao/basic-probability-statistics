{
 "cells": [
  {
   "cell_type": "markdown",
   "metadata": {},
   "source": [
    "## Parametric Bootstrap simulation of sampling distributions for MLE estimators"
   ]
  },
  {
   "cell_type": "code",
   "execution_count": 25,
   "metadata": {},
   "outputs": [
    {
     "name": "stdout",
     "output_type": "stream",
     "text": [
      "[1] 0.7684211\n"
     ]
    }
   ],
   "source": [
    "x <- c(10, 68, 112)\n",
    "\n",
    "x.n = sum(x)\n",
    "x.theta.mle = (2*x[3] + x[2])/(2*sum(x))\n",
    "\n",
    "print(x.theta.mle)"
   ]
  },
  {
   "cell_type": "code",
   "execution_count": 26,
   "metadata": {},
   "outputs": [
    {
     "data": {
      "text/html": [
       "<pre class=language-r><code>function (x, size, replace = FALSE, prob = NULL) \n",
       "NULL</code></pre>"
      ],
      "text/latex": [
       "\\begin{minted}{r}\n",
       "function (x, size, replace = FALSE, prob = NULL) \n",
       "NULL\n",
       "\\end{minted}"
      ],
      "text/markdown": [
       "```r\n",
       "function (x, size, replace = FALSE, prob = NULL) \n",
       "NULL\n",
       "```"
      ],
      "text/plain": [
       "function (x, size, replace = FALSE, prob = NULL) \n",
       "NULL"
      ]
     },
     "metadata": {},
     "output_type": "display_data"
    }
   ],
   "source": [
    "# Function computing cell probabilities given hardy-Weinberg theta parameter\n",
    "fcn.probs.hardweinberg <- function(theta0){\n",
    "    probs = c((1-theta0)**2, 2*theta0*(1-theta0), theta0**2)\n",
    "    return(probs)\n",
    "}\n",
    "\n",
    "\n",
    "# Function computing cell counts given w.sample, a sample of single-outcome multinomial\n",
    "# random variables (comparable to Bernoulli outcomes underlying a binomial)\n",
    "fcn.w.sample.counts <- function(w.sample, w.samplespace){\n",
    "    result = 0 * w.samplespace\n",
    "    for (j.outcome in c(1:length(w.samplespace))){\n",
    "        result[j.outcome] <- sum(w.sample == w.samplespace[j.outcome])\n",
    "    }\n",
    "    return(result)\n",
    "}\n",
    "\n",
    "args(sample)"
   ]
  },
  {
   "cell_type": "code",
   "execution_count": 27,
   "metadata": {},
   "outputs": [
    {
     "data": {
      "image/png": "[encoded data removed]",
      "text/plain": [
       "Plot with title \"Single multinomial trial (n = 190)\""
      ]
     },
     "metadata": {},
     "output_type": "display_data"
    }
   ],
   "source": [
    "w.samplespace = c(1, 2, 3)\n",
    "\n",
    "w.sample = sample(x = w.samplespace, size = x.n, replace = TRUE,\n",
    "                 prob = fcn.probs.hardweinberg(x.theta.mle))\n",
    "\n",
    "w.sample.counts <- fcn.w.sample.counts(w.sample, w.samplespace)\n",
    "\n",
    "par(mfcol = c(1, 1))\n",
    "plot(w.sample, main = paste(\"Single multinomial trial (n = \", as.character(x.n), \")\", sep = \"\"))"
   ]
  },
  {
   "cell_type": "code",
   "execution_count": 28,
   "metadata": {},
   "outputs": [
    {
     "name": "stdout",
     "output_type": "stream",
     "text": [
      "w.sample\n",
      "  1   2   3 \n",
      " 10  63 117 \n"
     ]
    }
   ],
   "source": [
    "print(table(w.sample))"
   ]
  },
  {
   "cell_type": "code",
   "execution_count": 29,
   "metadata": {},
   "outputs": [
    {
     "name": "stdout",
     "output_type": "stream",
     "text": [
      "[1]  10  63 117\n"
     ]
    }
   ],
   "source": [
    "print(w.sample.counts)"
   ]
  },
  {
   "cell_type": "code",
   "execution_count": 30,
   "metadata": {},
   "outputs": [
    {
     "name": "stdout",
     "output_type": "stream",
     "text": [
      "[1] 0.0004646706\n"
     ]
    }
   ],
   "source": [
    "# Conduct simulation\n",
    "n.simulations = 20000\n",
    "\n",
    "data.simulations <- matrix(NA, nrow = n.simulations, ncol = 1)\n",
    "\n",
    "for (j.simulation in c(1:n.simulations)){\n",
    "    j.w.sample = sample(x = w.samplespace, size = x.n, replace = TRUE,\n",
    "                       prob = fcn.probs.hardweinberg(x.theta.mle))\n",
    "    j.w.sample.counts <- fcn.w.sample.counts(j.w.sample, w.samplespace)\n",
    "    x.j = j.w.sample.counts\n",
    "    \n",
    "    x.j.theta.mle = (2*x.j[3] + x.j[2])/(2*sum(x.j))\n",
    "    data.simulations[j.simulation, 1] = x.j.theta.mle\n",
    "}\n",
    "\n",
    "print(simulation.var <- apply(data.simulations, 2, var))"
   ]
  },
  {
   "cell_type": "code",
   "execution_count": 31,
   "metadata": {},
   "outputs": [
    {
     "name": "stdout",
     "output_type": "stream",
     "text": [
      "[1] 0.0004682898\n"
     ]
    }
   ],
   "source": [
    "print(var.x.theta.mle <- x.theta.mle*(1 - x.theta.mle)/(2*x.n))"
   ]
  },
  {
   "cell_type": "code",
   "execution_count": 32,
   "metadata": {},
   "outputs": [
    {
     "name": "stdout",
     "output_type": "stream",
     "text": [
      "[1] 0.7682662\n"
     ]
    }
   ],
   "source": [
    "# Validate simulation\n",
    "print(simulations.mean <- apply(data.simulations, 2, mean))"
   ]
  },
  {
   "cell_type": "code",
   "execution_count": 33,
   "metadata": {},
   "outputs": [
    {
     "name": "stdout",
     "output_type": "stream",
     "text": [
      "[1] 0.02155622\n"
     ]
    }
   ],
   "source": [
    "print(simulations.stdev <- sqrt(apply(data.simulations, 2, var)))"
   ]
  },
  {
   "cell_type": "code",
   "execution_count": 34,
   "metadata": {},
   "outputs": [
    {
     "data": {
      "image/png": "[encoded data removed]",
      "text/plain": [
       "Plot with title \"Multinomial MLE\""
      ]
     },
     "metadata": {},
     "output_type": "display_data"
    }
   ],
   "source": [
    "hist(data.simulations[,1], main = \"Multinomial MLE\")\n",
    "abline(v = simulations.mean[1] + c(-1, 0, 1)*simulations.stdev[1], col = c(3, 3, 3))"
   ]
  },
  {
   "cell_type": "code",
   "execution_count": 35,
   "metadata": {},
   "outputs": [
    {
     "name": "stdout",
     "output_type": "stream",
     "text": [
      "[1] -0.0001548684\n"
     ]
    }
   ],
   "source": [
    "# Histogram of estimation errors for each estimator\n",
    "data.simulations.error = data.simulations - x.theta.mle\n",
    "\n",
    "print(simulations.error.means <- apply(data.simulations.error, 2, mean))"
   ]
  },
  {
   "cell_type": "code",
   "execution_count": 36,
   "metadata": {},
   "outputs": [
    {
     "name": "stdout",
     "output_type": "stream",
     "text": [
      "[1] 0.02155622\n"
     ]
    }
   ],
   "source": [
    "print(simulations.error.stdevs <- sqrt(apply(data.simulations.error, 2, var)))"
   ]
  },
  {
   "cell_type": "code",
   "execution_count": 37,
   "metadata": {},
   "outputs": [
    {
     "data": {
      "image/png": "[encoded data removed]",
      "text/plain": [
       "Plot with title \"Error of multinomial MLE\""
      ]
     },
     "metadata": {},
     "output_type": "display_data"
    }
   ],
   "source": [
    "hist(data.simulations.error[,1], main = \"Error of multinomial MLE\")\n",
    "abline(v = simulations.error.means[1] + c(-1, 0, 1)*simulations.error.stdevs[1], col = c(2, 2, 2))"
   ]
  },
  {
   "cell_type": "code",
   "execution_count": 38,
   "metadata": {},
   "outputs": [
    {
     "data": {
      "text/html": [
       "<table>\n",
       "<tbody>\n",
       "\t<tr><td>-0.02368421</td></tr>\n",
       "\t<tr><td>-0.02631579</td></tr>\n",
       "\t<tr><td>-0.02894737</td></tr>\n",
       "\t<tr><td>-0.01052632</td></tr>\n",
       "\t<tr><td>-0.02631579</td></tr>\n",
       "\t<tr><td>-0.01578947</td></tr>\n",
       "</tbody>\n",
       "</table>\n"
      ],
      "text/latex": [
       "\\begin{tabular}{l}\n",
       "\t -0.02368421\\\\\n",
       "\t -0.02631579\\\\\n",
       "\t -0.02894737\\\\\n",
       "\t -0.01052632\\\\\n",
       "\t -0.02631579\\\\\n",
       "\t -0.01578947\\\\\n",
       "\\end{tabular}\n"
      ],
      "text/markdown": [
       "\n",
       "| -0.02368421 | \n",
       "| -0.02631579 | \n",
       "| -0.02894737 | \n",
       "| -0.01052632 | \n",
       "| -0.02631579 | \n",
       "| -0.01578947 | \n",
       "\n",
       "\n"
      ],
      "text/plain": [
       "     [,1]       \n",
       "[1,] -0.02368421\n",
       "[2,] -0.02631579\n",
       "[3,] -0.02894737\n",
       "[4,] -0.01052632\n",
       "[5,] -0.02631579\n",
       "[6,] -0.01578947"
      ]
     },
     "metadata": {},
     "output_type": "display_data"
    }
   ],
   "source": [
    "# Bootstrap confidence interval\n",
    "head(data.simulations.error)"
   ]
  },
  {
   "cell_type": "code",
   "execution_count": 39,
   "metadata": {},
   "outputs": [
    {
     "data": {
      "text/html": [
       "<dl class=dl-horizontal>\n",
       "\t<dt>0.5%</dt>\n",
       "\t\t<dd>-0.0578947368421052</dd>\n",
       "\t<dt>99.5%</dt>\n",
       "\t\t<dd>0.0552631578947369</dd>\n",
       "</dl>\n"
      ],
      "text/latex": [
       "\\begin{description*}\n",
       "\\item[0.5\\textbackslash{}\\%] -0.0578947368421052\n",
       "\\item[99.5\\textbackslash{}\\%] 0.0552631578947369\n",
       "\\end{description*}\n"
      ],
      "text/markdown": [
       "0.5%\n",
       ":   -0.057894736842105299.5%\n",
       ":   0.0552631578947369\n",
       "\n"
      ],
      "text/plain": [
       "       0.5%       99.5% \n",
       "-0.05789474  0.05526316 "
      ]
     },
     "metadata": {},
     "output_type": "display_data"
    }
   ],
   "source": [
    "quantile(data.simulations.error[,1], probs = c(0.005, 0.995))"
   ]
  },
  {
   "cell_type": "code",
   "execution_count": 40,
   "metadata": {},
   "outputs": [
    {
     "data": {
      "text/html": [
       "0.768421052631579"
      ],
      "text/latex": [
       "0.768421052631579"
      ],
      "text/markdown": [
       "0.768421052631579"
      ],
      "text/plain": [
       "[1] 0.7684211"
      ]
     },
     "metadata": {},
     "output_type": "display_data"
    }
   ],
   "source": [
    "x.theta.mle"
   ]
  },
  {
   "cell_type": "code",
   "execution_count": 41,
   "metadata": {},
   "outputs": [
    {
     "data": {
      "text/html": [
       "<dl class=dl-horizontal>\n",
       "\t<dt>99.5%</dt>\n",
       "\t\t<dd>0.713157894736842</dd>\n",
       "\t<dt>0.5%</dt>\n",
       "\t\t<dd>0.826315789473684</dd>\n",
       "</dl>\n"
      ],
      "text/latex": [
       "\\begin{description*}\n",
       "\\item[99.5\\textbackslash{}\\%] 0.713157894736842\n",
       "\\item[0.5\\textbackslash{}\\%] 0.826315789473684\n",
       "\\end{description*}\n"
      ],
      "text/markdown": [
       "99.5%\n",
       ":   0.7131578947368420.5%\n",
       ":   0.826315789473684\n",
       "\n"
      ],
      "text/plain": [
       "    99.5%      0.5% \n",
       "0.7131579 0.8263158 "
      ]
     },
     "metadata": {},
     "output_type": "display_data"
    }
   ],
   "source": [
    "# Approximate 99% confidence interval based on MLE\n",
    "approx.CI.limits.99percent.mle = x.theta.mle + c(- quantile(data.simulations.error[,1], probs = 0.995),\n",
    "                                                - quantile(data.simulations.error[,1], probs = 0.005))\n",
    "approx.CI.limits.99percent.mle"
   ]
  }
 ],
 "metadata": {
  "kernelspec": {
   "display_name": "R",
   "language": "R",
   "name": "ir"
  },
  "language_info": {
   "codemirror_mode": "r",
   "file_extension": ".r",
   "mimetype": "text/x-r-source",
   "name": "R",
   "pygments_lexer": "r",
   "version": "3.5.1"
  }
 },
 "nbformat": 4,
 "nbformat_minor": 2
}
