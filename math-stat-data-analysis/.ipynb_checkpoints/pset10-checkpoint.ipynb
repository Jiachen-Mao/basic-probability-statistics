{
 "cells": [
  {
   "cell_type": "markdown",
   "metadata": {},
   "source": [
    "## Analysis of variance (ANOVA)"
   ]
  },
  {
   "cell_type": "code",
   "execution_count": 1,
   "metadata": {},
   "outputs": [
    {
     "data": {
      "text/html": [
       "<table>\n",
       "<thead><tr><th scope=col>Lab1</th><th scope=col>Lab2</th><th scope=col>Lab3</th><th scope=col>Lab4</th><th scope=col>Lab5</th><th scope=col>Lab6</th><th scope=col>Lab7</th></tr></thead>\n",
       "<tbody>\n",
       "\t<tr><td>4.13</td><td>3.86</td><td>4.00</td><td>3.88</td><td>4.02</td><td>4.02</td><td>4.00</td></tr>\n",
       "\t<tr><td>4.07</td><td>3.85</td><td>4.02</td><td>3.88</td><td>3.95</td><td>3.86</td><td>4.02</td></tr>\n",
       "\t<tr><td>4.04</td><td>4.08</td><td>4.01</td><td>3.91</td><td>4.02</td><td>3.96</td><td>4.03</td></tr>\n",
       "\t<tr><td>4.07</td><td>4.11</td><td>4.01</td><td>3.95</td><td>3.89</td><td>3.97</td><td>4.04</td></tr>\n",
       "\t<tr><td>4.05</td><td>4.08</td><td>4.04</td><td>3.92</td><td>3.91</td><td>4.00</td><td>4.10</td></tr>\n",
       "\t<tr><td>4.04</td><td>4.01</td><td>3.99</td><td>3.97</td><td>4.01</td><td>3.82</td><td>3.81</td></tr>\n",
       "\t<tr><td>4.02</td><td>4.02</td><td>4.03</td><td>3.92</td><td>3.89</td><td>3.98</td><td>3.91</td></tr>\n",
       "\t<tr><td>4.06</td><td>4.04</td><td>3.97</td><td>3.90</td><td>3.89</td><td>3.99</td><td>3.96</td></tr>\n",
       "\t<tr><td>4.10</td><td>3.97</td><td>3.98</td><td>3.97</td><td>3.99</td><td>4.02</td><td>4.05</td></tr>\n",
       "\t<tr><td>4.04</td><td>3.95</td><td>3.98</td><td>3.90</td><td>4.00</td><td>3.93</td><td>4.06</td></tr>\n",
       "</tbody>\n",
       "</table>\n"
      ],
      "text/latex": [
       "\\begin{tabular}{r|lllllll}\n",
       " Lab1 & Lab2 & Lab3 & Lab4 & Lab5 & Lab6 & Lab7\\\\\n",
       "\\hline\n",
       "\t 4.13 & 3.86 & 4.00 & 3.88 & 4.02 & 4.02 & 4.00\\\\\n",
       "\t 4.07 & 3.85 & 4.02 & 3.88 & 3.95 & 3.86 & 4.02\\\\\n",
       "\t 4.04 & 4.08 & 4.01 & 3.91 & 4.02 & 3.96 & 4.03\\\\\n",
       "\t 4.07 & 4.11 & 4.01 & 3.95 & 3.89 & 3.97 & 4.04\\\\\n",
       "\t 4.05 & 4.08 & 4.04 & 3.92 & 3.91 & 4.00 & 4.10\\\\\n",
       "\t 4.04 & 4.01 & 3.99 & 3.97 & 4.01 & 3.82 & 3.81\\\\\n",
       "\t 4.02 & 4.02 & 4.03 & 3.92 & 3.89 & 3.98 & 3.91\\\\\n",
       "\t 4.06 & 4.04 & 3.97 & 3.90 & 3.89 & 3.99 & 3.96\\\\\n",
       "\t 4.10 & 3.97 & 3.98 & 3.97 & 3.99 & 4.02 & 4.05\\\\\n",
       "\t 4.04 & 3.95 & 3.98 & 3.90 & 4.00 & 3.93 & 4.06\\\\\n",
       "\\end{tabular}\n"
      ],
      "text/markdown": [
       "\n",
       "Lab1 | Lab2 | Lab3 | Lab4 | Lab5 | Lab6 | Lab7 | \n",
       "|---|---|---|---|---|---|---|---|---|---|\n",
       "| 4.13 | 3.86 | 4.00 | 3.88 | 4.02 | 4.02 | 4.00 | \n",
       "| 4.07 | 3.85 | 4.02 | 3.88 | 3.95 | 3.86 | 4.02 | \n",
       "| 4.04 | 4.08 | 4.01 | 3.91 | 4.02 | 3.96 | 4.03 | \n",
       "| 4.07 | 4.11 | 4.01 | 3.95 | 3.89 | 3.97 | 4.04 | \n",
       "| 4.05 | 4.08 | 4.04 | 3.92 | 3.91 | 4.00 | 4.10 | \n",
       "| 4.04 | 4.01 | 3.99 | 3.97 | 4.01 | 3.82 | 3.81 | \n",
       "| 4.02 | 4.02 | 4.03 | 3.92 | 3.89 | 3.98 | 3.91 | \n",
       "| 4.06 | 4.04 | 3.97 | 3.90 | 3.89 | 3.99 | 3.96 | \n",
       "| 4.10 | 3.97 | 3.98 | 3.97 | 3.99 | 4.02 | 4.05 | \n",
       "| 4.04 | 3.95 | 3.98 | 3.90 | 4.00 | 3.93 | 4.06 | \n",
       "\n",
       "\n"
      ],
      "text/plain": [
       "   Lab1 Lab2 Lab3 Lab4 Lab5 Lab6 Lab7\n",
       "1  4.13 3.86 4.00 3.88 4.02 4.02 4.00\n",
       "2  4.07 3.85 4.02 3.88 3.95 3.86 4.02\n",
       "3  4.04 4.08 4.01 3.91 4.02 3.96 4.03\n",
       "4  4.07 4.11 4.01 3.95 3.89 3.97 4.04\n",
       "5  4.05 4.08 4.04 3.92 3.91 4.00 4.10\n",
       "6  4.04 4.01 3.99 3.97 4.01 3.82 3.81\n",
       "7  4.02 4.02 4.03 3.92 3.89 3.98 3.91\n",
       "8  4.06 4.04 3.97 3.90 3.89 3.99 3.96\n",
       "9  4.10 3.97 3.98 3.97 3.99 4.02 4.05\n",
       "10 4.04 3.95 3.98 3.90 4.00 3.93 4.06"
      ]
     },
     "metadata": {},
     "output_type": "display_data"
    }
   ],
   "source": [
    "tablets1 = read.table(file = \"Rice 3e Datasets/ASCII Comma/Chapter 12/tablets1.txt\",\n",
    "                      sep = \",\", stringsAsFactors = FALSE, skip = 1, header = FALSE)\n",
    "\n",
    "dimnames(tablets1)[[2]] <- paste(\"Lab\", c(1:7), sep = \"\")\n",
    "\n",
    "tablets1"
   ]
  },
  {
   "cell_type": "code",
   "execution_count": 2,
   "metadata": {},
   "outputs": [
    {
     "data": {
      "image/png": "[encoded data removed]",
      "text/plain": [
       "plot without title"
      ]
     },
     "metadata": {},
     "output_type": "display_data"
    }
   ],
   "source": [
    "boxplot(tablets1)"
   ]
  },
  {
   "cell_type": "code",
   "execution_count": 3,
   "metadata": {},
   "outputs": [],
   "source": [
    "# Two-sample t test\n",
    "\n",
    "fcn.TwoSampleTTest <- function(x, y, conf.level = 0.95, digits0 = 4){\n",
    "    x.mean = mean(x)\n",
    "    y.mean = mean(y)\n",
    "    x.var = var(x)\n",
    "    y.var = var(y)\n",
    "    x.n = length(x)\n",
    "    y.n = length(y)\n",
    "    sigmasq.pooled = ((x.n - 1)*x.var + (y.n - 1)*y.var)/(x.n + y.n -2)\n",
    "    \n",
    "    # Print out the statistics\n",
    "    cat(\"Sample statistics:\\n\")\n",
    "    print(t(data.frame(\n",
    "    x.mean,\n",
    "    x.n,\n",
    "    x.stdev = sqrt(x.var),\n",
    "    y.mean,\n",
    "    y.n,\n",
    "    y.stdev = sqrt(y.var),\n",
    "    sigma.pooled = sqrt(sigmasq.pooled)\n",
    "    )))\n",
    "    \n",
    "    cat(\"Test computations:\\n\")\n",
    "    mean.diff = x.mean - y.mean\n",
    "    mean.diff.sterr = sqrt(sigmasq.pooled)*sqrt(1/x.n + 1/y.n)\n",
    "    mean.diff.tstat = mean.diff/mean.diff.sterr\n",
    "    tstat.df = x.n + y.n -2\n",
    "    mean.diff.tstat.pvalue = 2*pt(-abs(mean.diff.tstat), df = tstat.df)\n",
    "    \n",
    "    print(t(data.frame(\n",
    "    mean.diff = mean.diff,\n",
    "    mean.diff.sterr = mean.diff.sterr,\n",
    "    tstat = mean.diff.tstat,\n",
    "    df = tstat.df,\n",
    "    pvalue = mean.diff.tstat.pvalue)))\n",
    "    \n",
    "    # Confidence interval\n",
    "    alphahalf = (1 - conf.level)/2.\n",
    "    t.critical = qt(1 - alphahalf, df = tstat.df)\n",
    "    \n",
    "    mean.diff.confInterval = mean.diff + c(-1, 1)*mean.diff.sterr*t.critical\n",
    "    \n",
    "    cat(paste(\"\\n\", 100*conf.level, \"Percent confidence interval:\\n\"))\n",
    "    \n",
    "    cat(paste(c(\n",
    "    \"[\", round(mean.diff.confInterval[1], digits = digits0),\n",
    "    \",\", round(mean.diff.confInterval[2], digits = digits0),\n",
    "    \"]\"), collapse = \"\"))\n",
    "}"
   ]
  },
  {
   "cell_type": "code",
   "execution_count": 4,
   "metadata": {},
   "outputs": [
    {
     "name": "stdout",
     "output_type": "stream",
     "text": [
      "Sample statistics:\n",
      "                    [,1]\n",
      "x.mean        3.99800000\n",
      "x.n          10.00000000\n",
      "x.stdev       0.08482662\n",
      "y.mean        3.92000000\n",
      "y.n          10.00000000\n",
      "y.stdev       0.03333333\n",
      "sigma.pooled  0.06444636\n",
      "Test computations:\n",
      "                       [,1]\n",
      "mean.diff        0.07800000\n",
      "mean.diff.sterr  0.02882129\n",
      "tstat            2.70633286\n",
      "df              18.00000000\n",
      "pvalue           0.01445587\n",
      "\n",
      " 95 Percent confidence interval:\n",
      "[0.0174,0.1386]"
     ]
    }
   ],
   "source": [
    "fcn.TwoSampleTTest(tablets1$Lab7, tablets1$Lab4)"
   ]
  },
  {
   "cell_type": "code",
   "execution_count": 5,
   "metadata": {},
   "outputs": [
    {
     "data": {
      "text/plain": [
       "\n",
       "\tTwo Sample t-test\n",
       "\n",
       "data:  tablets1$Lab7 and tablets1$Lab4\n",
       "t = 2.7063, df = 18, p-value = 0.01446\n",
       "alternative hypothesis: true difference in means is not equal to 0\n",
       "95 percent confidence interval:\n",
       " 0.01744872 0.13855128\n",
       "sample estimates:\n",
       "mean of x mean of y \n",
       "    3.998     3.920 \n"
      ]
     },
     "metadata": {},
     "output_type": "display_data"
    }
   ],
   "source": [
    "t.test(tablets1$Lab7, tablets1$Lab4, var.equal = TRUE)"
   ]
  },
  {
   "cell_type": "code",
   "execution_count": 6,
   "metadata": {},
   "outputs": [
    {
     "data": {
      "text/plain": [
       "xvec.factor.Lab\n",
       " 1  2  3  4  5  6  7 \n",
       "10 10 10 10 10 10 10 "
      ]
     },
     "metadata": {},
     "output_type": "display_data"
    }
   ],
   "source": [
    "# One-way ANOVA\n",
    "\n",
    "yvec = as.vector(data.matrix(tablets1))\n",
    "xvec.factor.Lab = as.factor(as.vector(col(data.matrix(tablets1))))\n",
    "table(xvec.factor.Lab)"
   ]
  },
  {
   "cell_type": "code",
   "execution_count": 7,
   "metadata": {},
   "outputs": [
    {
     "data": {
      "image/png": "[encoded data removed]",
      "text/plain": [
       "plot without title"
      ]
     },
     "metadata": {},
     "output_type": "display_data"
    }
   ],
   "source": [
    "plot(as.numeric(xvec.factor.Lab), yvec)"
   ]
  },
  {
   "cell_type": "code",
   "execution_count": 8,
   "metadata": {},
   "outputs": [
    {
     "name": "stdout",
     "output_type": "stream",
     "text": [
      "                Df Sum Sq  Mean Sq F value   Pr(>F)    \n",
      "xvec.factor.Lab  6 0.1247 0.020790    5.66 9.45e-05 ***\n",
      "Residuals       63 0.2314 0.003673                     \n",
      "---\n",
      "Signif. codes:  0 '***' 0.001 '**' 0.01 '*' 0.05 '.' 0.1 ' ' 1\n"
     ]
    }
   ],
   "source": [
    "tablets1.aov <- aov(yvec ~ xvec.factor.Lab)\n",
    "tablets1.aov.summary <- summary(tablets1.aov)\n",
    "\n",
    "print(tablets1.aov.summary)"
   ]
  },
  {
   "cell_type": "code",
   "execution_count": 9,
   "metadata": {},
   "outputs": [
    {
     "name": "stdout",
     "output_type": "stream",
     "text": [
      "Tables of means\n",
      "Grand mean\n",
      "         \n",
      "3.984571 \n",
      "\n",
      " xvec.factor.Lab \n",
      "xvec.factor.Lab\n",
      "    1     2     3     4     5     6     7 \n",
      "4.062 3.997 4.003 3.920 3.957 3.955 3.998 \n",
      "\n",
      "Standard errors for differences of means\n",
      "        xvec.factor.Lab\n",
      "                 0.0271\n",
      "replic.              10\n"
     ]
    }
   ],
   "source": [
    "tablets1.aov.model.tables <- model.tables(tablets1.aov, type = \"mean\", se = TRUE)\n",
    "print(tablets1.aov.model.tables)"
   ]
  },
  {
   "cell_type": "code",
   "execution_count": 10,
   "metadata": {},
   "outputs": [
    {
     "name": "stdout",
     "output_type": "stream",
     "text": [
      "\n",
      "Call:\n",
      "lm(formula = yvec ~ xvec.factor.Lab, x = TRUE, y = TRUE)\n",
      "\n",
      "Residuals:\n",
      "    Min      1Q  Median      3Q     Max \n",
      "-0.1880 -0.0245  0.0060  0.0410  0.1130 \n",
      "\n",
      "Coefficients:\n",
      "                 Estimate Std. Error t value Pr(>|t|)    \n",
      "(Intercept)       4.06200    0.01917 211.948  < 2e-16 ***\n",
      "xvec.factor.Lab2 -0.06500    0.02710  -2.398 0.019449 *  \n",
      "xvec.factor.Lab3 -0.05900    0.02710  -2.177 0.033248 *  \n",
      "xvec.factor.Lab4 -0.14200    0.02710  -5.239 1.99e-06 ***\n",
      "xvec.factor.Lab5 -0.10500    0.02710  -3.874 0.000257 ***\n",
      "xvec.factor.Lab6 -0.10700    0.02710  -3.948 0.000201 ***\n",
      "xvec.factor.Lab7 -0.06400    0.02710  -2.361 0.021316 *  \n",
      "---\n",
      "Signif. codes:  0 '***' 0.001 '**' 0.01 '*' 0.05 '.' 0.1 ' ' 1\n",
      "\n",
      "Residual standard error: 0.06061 on 63 degrees of freedom\n",
      "Multiple R-squared:  0.3503,\tAdjusted R-squared:  0.2884 \n",
      "F-statistic:  5.66 on 6 and 63 DF,  p-value: 9.453e-05\n",
      "\n"
     ]
    }
   ],
   "source": [
    "# One-way ANOVA with lm()\n",
    "\n",
    "lmfit.oneway.Lab = lm(yvec ~ xvec.factor.Lab, x = TRUE, y = TRUE)\n",
    "lmfit.oneway.Lab.summary <- summary(lmfit.oneway.Lab)\n",
    "print(lmfit.oneway.Lab.summary)"
   ]
  },
  {
   "cell_type": "code",
   "execution_count": 11,
   "metadata": {},
   "outputs": [
    {
     "data": {
      "image/png": "[encoded data removed]",
      "text/plain": [
       "plot without title"
      ]
     },
     "metadata": {},
     "output_type": "display_data"
    }
   ],
   "source": [
    "# Compare to linear regression\n",
    "\n",
    "x = tablets1$Lab4\n",
    "y = tablets1$Lab7\n",
    "\n",
    "yvec = c(x, y)\n",
    "xmat.col1 = 0*yvec + 1\n",
    "xmat.col2 = c(0*x, (1 + 0*y))\n",
    "xmat = cbind(xmat.col1, xmat.col2)\n",
    "\n",
    "plot(xmat.col2, yvec)\n",
    "\n",
    "lmfit = lm(yvec ~ xmat.col2, x = TRUE, y = TRUE)\n",
    "abline(lmfit, col = 'green')"
   ]
  },
  {
   "cell_type": "code",
   "execution_count": 12,
   "metadata": {},
   "outputs": [
    {
     "name": "stdout",
     "output_type": "stream",
     "text": [
      "\n",
      "Call:\n",
      "lm(formula = yvec ~ xmat.col2, x = TRUE, y = TRUE)\n",
      "\n",
      "Residuals:\n",
      "    Min      1Q  Median      3Q     Max \n",
      "-0.1880 -0.0245  0.0010  0.0440  0.1020 \n",
      "\n",
      "Coefficients:\n",
      "            Estimate Std. Error t value Pr(>|t|)    \n",
      "(Intercept)  3.92000    0.02038 192.348   <2e-16 ***\n",
      "xmat.col2    0.07800    0.02882   2.706   0.0145 *  \n",
      "---\n",
      "Signif. codes:  0 '***' 0.001 '**' 0.01 '*' 0.05 '.' 0.1 ' ' 1\n",
      "\n",
      "Residual standard error: 0.06445 on 18 degrees of freedom\n",
      "Multiple R-squared:  0.2892,\tAdjusted R-squared:  0.2497 \n",
      "F-statistic: 7.324 on 1 and 18 DF,  p-value: 0.01446\n",
      "\n"
     ]
    }
   ],
   "source": [
    "print(summary(lmfit))"
   ]
  },
  {
   "cell_type": "code",
   "execution_count": 13,
   "metadata": {},
   "outputs": [
    {
     "data": {
      "text/html": [
       "<table>\n",
       "<thead><tr><th></th><th scope=col>Male</th><th scope=col>Female</th></tr></thead>\n",
       "<tbody>\n",
       "\t<tr><th scope=row>Promote</th><td>21</td><td>14</td></tr>\n",
       "\t<tr><th scope=row>HoldFile</th><td> 3</td><td>10</td></tr>\n",
       "</tbody>\n",
       "</table>\n"
      ],
      "text/latex": [
       "\\begin{tabular}{r|ll}\n",
       "  & Male & Female\\\\\n",
       "\\hline\n",
       "\tPromote & 21 & 14\\\\\n",
       "\tHoldFile &  3 & 10\\\\\n",
       "\\end{tabular}\n"
      ],
      "text/markdown": [
       "\n",
       "| <!--/--> | Male | Female | \n",
       "|---|---|\n",
       "| Promote | 21 | 14 | \n",
       "| HoldFile |  3 | 10 | \n",
       "\n",
       "\n"
      ],
      "text/plain": [
       "         Male Female\n",
       "Promote  21   14    \n",
       "HoldFile  3   10    "
      ]
     },
     "metadata": {},
     "output_type": "display_data"
    }
   ],
   "source": [
    "# Fisher's exact test\n",
    "\n",
    "table1 = data.frame(\n",
    "Male = rbind(Promote = 21, HoldFile = 3),\n",
    "Female = rbind(Promote = 14, HoldFile = 10))\n",
    "\n",
    "table1"
   ]
  },
  {
   "cell_type": "code",
   "execution_count": 14,
   "metadata": {},
   "outputs": [
    {
     "data": {
      "text/html": [
       "<dl class=dl-horizontal>\n",
       "\t<dt>Male</dt>\n",
       "\t\t<dd>24</dd>\n",
       "\t<dt>Female</dt>\n",
       "\t\t<dd>24</dd>\n",
       "</dl>\n"
      ],
      "text/latex": [
       "\\begin{description*}\n",
       "\\item[Male] 24\n",
       "\\item[Female] 24\n",
       "\\end{description*}\n"
      ],
      "text/markdown": [
       "Male\n",
       ":   24Female\n",
       ":   24\n",
       "\n"
      ],
      "text/plain": [
       "  Male Female \n",
       "    24     24 "
      ]
     },
     "metadata": {},
     "output_type": "display_data"
    }
   ],
   "source": [
    "colSums(table1)"
   ]
  },
  {
   "cell_type": "code",
   "execution_count": 15,
   "metadata": {},
   "outputs": [
    {
     "data": {
      "text/html": [
       "<dl class=dl-horizontal>\n",
       "\t<dt>Promote</dt>\n",
       "\t\t<dd>35</dd>\n",
       "\t<dt>HoldFile</dt>\n",
       "\t\t<dd>13</dd>\n",
       "</dl>\n"
      ],
      "text/latex": [
       "\\begin{description*}\n",
       "\\item[Promote] 35\n",
       "\\item[HoldFile] 13\n",
       "\\end{description*}\n"
      ],
      "text/markdown": [
       "Promote\n",
       ":   35HoldFile\n",
       ":   13\n",
       "\n"
      ],
      "text/plain": [
       " Promote HoldFile \n",
       "      35       13 "
      ]
     },
     "metadata": {},
     "output_type": "display_data"
    }
   ],
   "source": [
    "rowSums(table1)"
   ]
  },
  {
   "cell_type": "code",
   "execution_count": 16,
   "metadata": {},
   "outputs": [
    {
     "data": {
      "text/plain": [
       "\n",
       "\tFisher's Exact Test for Count Data\n",
       "\n",
       "data:  table1\n",
       "p-value = 0.04899\n",
       "alternative hypothesis: true odds ratio is not equal to 1\n",
       "95 percent confidence interval:\n",
       "  1.00557 32.20580\n",
       "sample estimates:\n",
       "odds ratio \n",
       "   4.83119 \n"
      ]
     },
     "metadata": {},
     "output_type": "display_data"
    }
   ],
   "source": [
    "fisher.test(table1)"
   ]
  },
  {
   "cell_type": "code",
   "execution_count": 17,
   "metadata": {},
   "outputs": [
    {
     "name": "stdout",
     "output_type": "stream",
     "text": [
      "    x          pdf\n",
      "1  11 0.0000129382\n",
      "2  12 0.0003363932\n",
      "3  13 0.0035709428\n",
      "4  14 0.0205754324\n",
      "5  15 0.0720140133\n",
      "6  16 0.1620315298\n",
      "7  17 0.2414587504\n",
      "8  18 0.2414587504\n",
      "9  19 0.1620315298\n",
      "10 20 0.0720140133\n",
      "11 21 0.0205754324\n",
      "12 22 0.0035709428\n",
      "13 23 0.0003363932\n",
      "14 24 0.0000129382\n"
     ]
    }
   ],
   "source": [
    "# Hypergeometric distribution\n",
    "\n",
    "m = rowSums(table1)[\"Promote\"]\n",
    "n = rowSums(table1)[\"HoldFile\"]\n",
    "k = colSums(table1)[\"Male\"]\n",
    "\n",
    "x.max = min(k, m)\n",
    "x.min = max(k-n, 0)\n",
    "\n",
    "vec.x = seq(x.min, x.max, 1)\n",
    "vec.x.pdf = dhyper(vec.x, m, n, k)\n",
    "print(data.frame(x = vec.x, pdf = vec.x.pdf))"
   ]
  },
  {
   "cell_type": "code",
   "execution_count": 18,
   "metadata": {},
   "outputs": [
    {
     "data": {
      "image/png": "[encoded data removed]",
      "text/plain": [
       "Plot with title \"PDF pf hypergeometric\n",
       " m = 35, n = 13, k = 24\n",
       "(observed value X = 21)\""
      ]
     },
     "metadata": {},
     "output_type": "display_data"
    }
   ],
   "source": [
    "plot(vec.x, vec.x.pdf, type = \"h\", xlab = \"x\", ylab = \"p(x)\", \n",
    "     main = \"PDF pf hypergeometric\\n m = 35, n = 13, k = 24\\n(observed value X = 21)\")\n",
    "\n",
    "x.observed = 21\n",
    "\n",
    "text(x = x.observed, 0., \"X\")"
   ]
  }
 ],
 "metadata": {
  "kernelspec": {
   "display_name": "R",
   "language": "R",
   "name": "ir"
  },
  "language_info": {
   "codemirror_mode": "r",
   "file_extension": ".r",
   "mimetype": "text/x-r-source",
   "name": "R",
   "pygments_lexer": "r",
   "version": "3.5.1"
  }
 },
 "nbformat": 4,
 "nbformat_minor": 2
}
