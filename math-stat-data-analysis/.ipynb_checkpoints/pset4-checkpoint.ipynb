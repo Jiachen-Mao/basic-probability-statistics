{
 "cells": [
  {
   "cell_type": "markdown",
   "metadata": {},
   "source": [
    "## Parametric Bootstrap simulation of sampling distributions for MLE estimators"
   ]
  },
  {
   "cell_type": "code",
   "execution_count": 40,
   "metadata": {},
   "outputs": [
    {
     "name": "stdout",
     "output_type": "stream",
     "text": [
      "[1] 0.0357123\n"
     ]
    }
   ],
   "source": [
    "x <- c(1997, 906, 904, 32)\n",
    "\n",
    "x.n = sum(x)\n",
    "x.a = sum(x)\n",
    "x.b = x[1] - 2*x[2] - 2*x[3] -x[4]\n",
    "x.c = 2*x[4]\n",
    "x.theta.mle = (sqrt(x.b*x.b + 4*x.a*x.c) + x.b)/(2*x.a)\n",
    "\n",
    "print(x.theta.mle)"
   ]
  },
  {
   "cell_type": "code",
   "execution_count": 41,
   "metadata": {},
   "outputs": [
    {
     "data": {
      "text/html": [
       "<pre class=language-r><code>function (x, size, replace = FALSE, prob = NULL) \n",
       "NULL</code></pre>"
      ],
      "text/latex": [
       "\\begin{minted}{r}\n",
       "function (x, size, replace = FALSE, prob = NULL) \n",
       "NULL\n",
       "\\end{minted}"
      ],
      "text/markdown": [
       "```r\n",
       "function (x, size, replace = FALSE, prob = NULL) \n",
       "NULL\n",
       "```"
      ],
      "text/plain": [
       "function (x, size, replace = FALSE, prob = NULL) \n",
       "NULL"
      ]
     },
     "metadata": {},
     "output_type": "display_data"
    }
   ],
   "source": [
    "# Simulation sampling distribution of estimator\n",
    "\n",
    "# Function computing cell probabilities given hardy-Weinberg theta parameter\n",
    "fcn.probs.hardyweinberg <- function(theta0){\n",
    "    probs = c(0.25*(2+theta0), 0.25*(1-theta0), 0.25*(1-theta0), 0.25*theta0)\n",
    "    return(probs)\n",
    "}\n",
    "\n",
    "# Function computing cell counts given w.sample, a sample of single-outcome multinomial\n",
    "# random variables (comparable to Bernoulli outcomes underlying a binomial)\n",
    "fcn.w.sample.counts <- function(w.sample, w.samplespace){\n",
    "    result = 0 * w.samplespace\n",
    "    for (j.outcome in c(1:length(w.samplespace))){\n",
    "        result[j.outcome] <- sum(w.sample == w.samplespace[j.outcome])\n",
    "    }\n",
    "    return(result)\n",
    "}\n",
    "\n",
    "args(sample)"
   ]
  },
  {
   "cell_type": "code",
   "execution_count": 42,
   "metadata": {},
   "outputs": [
    {
     "data": {
      "image/png": "[encoded data removed]",
      "text/plain": [
       "Plot with title \"Single multinomial trial (n = 3839)\""
      ]
     },
     "metadata": {},
     "output_type": "display_data"
    }
   ],
   "source": [
    "w.samplespace = c(1, 2, 3, 4)\n",
    "\n",
    "w.sample = sample(x = w.samplespace, size = x.n, replace = TRUE,\n",
    "                 prob = fcn.probs.hardyweinberg(x.theta.mle))\n",
    "\n",
    "w.sample.counts <- fcn.w.sample.counts(w.sample, w.samplespace)\n",
    "\n",
    "par(mfcol = c(1, 1))\n",
    "\n",
    "plot(w.sample, main = paste(\"Single multinomial trial (n = \", as.character(x.n), \")\", sep = \"\"))"
   ]
  },
  {
   "cell_type": "code",
   "execution_count": 43,
   "metadata": {},
   "outputs": [
    {
     "name": "stdout",
     "output_type": "stream",
     "text": [
      "w.sample\n",
      "   1    2    3    4 \n",
      "1975  900  937   27 \n"
     ]
    }
   ],
   "source": [
    "print(table(w.sample))"
   ]
  },
  {
   "cell_type": "code",
   "execution_count": 44,
   "metadata": {},
   "outputs": [
    {
     "name": "stdout",
     "output_type": "stream",
     "text": [
      "[1] 1975  900  937   27\n"
     ]
    }
   ],
   "source": [
    "print(w.sample.counts)"
   ]
  },
  {
   "cell_type": "code",
   "execution_count": 45,
   "metadata": {},
   "outputs": [
    {
     "name": "stdout",
     "output_type": "stream",
     "text": [
      "[1] 3.363249e-05\n"
     ]
    }
   ],
   "source": [
    "# Conduct simulation\n",
    "n.simulations = 20000\n",
    "\n",
    "data.simulations <- matrix(NA, nrow = n.simulations, ncol = 1)\n",
    "\n",
    "for (j.simulation in c(1:n.simulations)){\n",
    "    j.w.sample = sample(x = w.samplespace, size = x.n, replace = TRUE,\n",
    "                       prob = fcn.probs.hardyweinberg(x.theta.mle))\n",
    "    j.w.sample.counts <- fcn.w.sample.counts(j.w.sample, w.samplespace)\n",
    "    x.j = j.w.sample.counts\n",
    "    \n",
    "    x.j.a = sum(x.j)\n",
    "    x.j.b = x.j[1] - 2*x.j[2] - 2*x.j[3] - x.j[4]\n",
    "    x.j.c = 2*x.j[4]\n",
    "    \n",
    "    x.j.theta.mle = (sqrt(x.j.b*x.j.b + 4*x.j.a*x.j.c) + x.j.b)/(2*x.j.a)\n",
    "    data.simulations[j.simulation, 1] = x.j.theta.mle\n",
    "}\n",
    "\n",
    "print(simulation.var <- apply(data.simulations, 2, var))"
   ]
  },
  {
   "cell_type": "code",
   "execution_count": 46,
   "metadata": {},
   "outputs": [
    {
     "name": "stdout",
     "output_type": "stream",
     "text": [
      "[1] 3.408719e-05\n"
     ]
    }
   ],
   "source": [
    "print(var.x.theta.mle <- 4/(x.n*(1/(2+x.theta.mle) + 2/(1-x.theta.mle) + 1/x.theta.mle)))"
   ]
  },
  {
   "cell_type": "code",
   "execution_count": 47,
   "metadata": {},
   "outputs": [
    {
     "name": "stdout",
     "output_type": "stream",
     "text": [
      "[1] 0.0357474\n"
     ]
    }
   ],
   "source": [
    "# Simulation results\n",
    "\n",
    "print(simulations.mean <- apply(data.simulations, 2, mean))"
   ]
  },
  {
   "cell_type": "code",
   "execution_count": 48,
   "metadata": {},
   "outputs": [
    {
     "name": "stdout",
     "output_type": "stream",
     "text": [
      "[1] 0.005799353\n"
     ]
    }
   ],
   "source": [
    "print(simulations.stdev <- sqrt(apply(data.simulations, 2, var)))"
   ]
  },
  {
   "cell_type": "code",
   "execution_count": 49,
   "metadata": {},
   "outputs": [
    {
     "data": {
      "image/png": "[encoded data removed]",
      "text/plain": [
       "Plot with title \"Multinomial MLE\""
      ]
     },
     "metadata": {},
     "output_type": "display_data"
    }
   ],
   "source": [
    "hist(data.simulations[,1], main = \"Multinomial MLE\")\n",
    "abline(v = simulations.mean[1] + c(-1, 0, 1)*simulations.stdev[1], col = c(3, 3, 3))"
   ]
  },
  {
   "cell_type": "code",
   "execution_count": 50,
   "metadata": {},
   "outputs": [
    {
     "name": "stdout",
     "output_type": "stream",
     "text": [
      "[1] 3.510257e-05\n"
     ]
    }
   ],
   "source": [
    "# Histogram of estimation errors for each estimator\n",
    "data.simulations.error = data.simulations - x.theta.mle\n",
    "\n",
    "print(simulations.error.means <- apply(data.simulations.error, 2, mean))"
   ]
  },
  {
   "cell_type": "code",
   "execution_count": 51,
   "metadata": {},
   "outputs": [
    {
     "name": "stdout",
     "output_type": "stream",
     "text": [
      "[1] 0.005799353\n"
     ]
    }
   ],
   "source": [
    "print(simulations.error.stdevs <- sqrt(apply(data.simulations.error, 2, var)))"
   ]
  },
  {
   "cell_type": "code",
   "execution_count": 52,
   "metadata": {},
   "outputs": [
    {
     "data": {
      "image/png": "[encoded data removed]",
      "text/plain": [
       "Plot with title \"Error of multinomial MLE\""
      ]
     },
     "metadata": {},
     "output_type": "display_data"
    }
   ],
   "source": [
    "hist(data.simulations.error[,1], main = \"Error of multinomial MLE\")\n",
    "abline(v = simulations.error.means[1] + c(-1, 0, 1)*simulations.error.stdevs[1], col = c(2, 2, 2))"
   ]
  },
  {
   "cell_type": "code",
   "execution_count": 53,
   "metadata": {},
   "outputs": [
    {
     "data": {
      "text/html": [
       "<table>\n",
       "<tbody>\n",
       "\t<tr><td>-0.002064439</td></tr>\n",
       "\t<tr><td> 0.001376102</td></tr>\n",
       "\t<tr><td>-0.003381911</td></tr>\n",
       "\t<tr><td>-0.005810443</td></tr>\n",
       "\t<tr><td>-0.012529968</td></tr>\n",
       "\t<tr><td>-0.007306921</td></tr>\n",
       "</tbody>\n",
       "</table>\n"
      ],
      "text/latex": [
       "\\begin{tabular}{l}\n",
       "\t -0.002064439\\\\\n",
       "\t  0.001376102\\\\\n",
       "\t -0.003381911\\\\\n",
       "\t -0.005810443\\\\\n",
       "\t -0.012529968\\\\\n",
       "\t -0.007306921\\\\\n",
       "\\end{tabular}\n"
      ],
      "text/markdown": [
       "\n",
       "| -0.002064439 | \n",
       "|  0.001376102 | \n",
       "| -0.003381911 | \n",
       "| -0.005810443 | \n",
       "| -0.012529968 | \n",
       "| -0.007306921 | \n",
       "\n",
       "\n"
      ],
      "text/plain": [
       "     [,1]        \n",
       "[1,] -0.002064439\n",
       "[2,]  0.001376102\n",
       "[3,] -0.003381911\n",
       "[4,] -0.005810443\n",
       "[5,] -0.012529968\n",
       "[6,] -0.007306921"
      ]
     },
     "metadata": {},
     "output_type": "display_data"
    }
   ],
   "source": [
    "# Bootstrap confidence interval\n",
    "head(data.simulations.error)"
   ]
  },
  {
   "cell_type": "code",
   "execution_count": 54,
   "metadata": {},
   "outputs": [
    {
     "data": {
      "text/html": [
       "<dl class=dl-horizontal>\n",
       "\t<dt>99.5%</dt>\n",
       "\t\t<dd>0.0202135337505209</dd>\n",
       "\t<dt>0.5%</dt>\n",
       "\t\t<dd>0.0500092907638236</dd>\n",
       "</dl>\n"
      ],
      "text/latex": [
       "\\begin{description*}\n",
       "\\item[99.5\\textbackslash{}\\%] 0.0202135337505209\n",
       "\\item[0.5\\textbackslash{}\\%] 0.0500092907638236\n",
       "\\end{description*}\n"
      ],
      "text/markdown": [
       "99.5%\n",
       ":   0.02021353375052090.5%\n",
       ":   0.0500092907638236\n",
       "\n"
      ],
      "text/plain": [
       "     99.5%       0.5% \n",
       "0.02021353 0.05000929 "
      ]
     },
     "metadata": {},
     "output_type": "display_data"
    }
   ],
   "source": [
    "# Approximate 99% confidence interval based on MLE\n",
    "approx.CI.limits.99percent.mle = x.theta.mle + c(- quantile(data.simulations.error[,1], probs = 0.995),\n",
    "                                                - quantile(data.simulations.error[,1], probs = 0.005))\n",
    "approx.CI.limits.99percent.mle"
   ]
  },
  {
   "cell_type": "markdown",
   "metadata": {},
   "source": [
    "## Plot Beta distribution"
   ]
  },
  {
   "cell_type": "code",
   "execution_count": 55,
   "metadata": {},
   "outputs": [
    {
     "data": {
      "image/png": "[encoded data removed]",
      "text/plain": [
       "Plot with title \"Comparison of two Beta Distributions\""
      ]
     },
     "metadata": {},
     "output_type": "display_data"
    }
   ],
   "source": [
    "x <- seq(0, 0.15, length=100)\n",
    "hx1 <- dbeta(x, 4, 98, ncp = 0, log = FALSE)\n",
    "hx2 <- dbeta(x, 3.5, 102, ncp = 0, log = FALSE)\n",
    "\n",
    "colors <- c(\"red\", \"black\")\n",
    "labels <- c(\"Case 1\", \"Case 2\")\n",
    "\n",
    "#plot(x, hx1, type = \"l\", lty = 1, xlab = \"x\", ylab = \"Density\", main = \"Comparison of two Beta Distributions\")\n",
    "\n",
    "plot(x, hx2, type = \"l\", lty = 1, xlab = \"x\", ylab = \"Density\", main = \"Comparison of two Beta Distributions\")\n",
    "\n",
    "lines(x, hx1, lwd = 2, col = colors[1])\n",
    "lines(x, hx2, lwd = 2, col = colors[2])\n",
    "\n",
    "legend(\"topright\", inset = .05, title = \"Distributions\", labels, lwd = 2, lty = c(1, 1), col = colors)"
   ]
  }
 ],
 "metadata": {
  "kernelspec": {
   "display_name": "R",
   "language": "R",
   "name": "ir"
  },
  "language_info": {
   "codemirror_mode": "r",
   "file_extension": ".r",
   "mimetype": "text/x-r-source",
   "name": "R",
   "pygments_lexer": "r",
   "version": "3.5.1"
  }
 },
 "nbformat": 4,
 "nbformat_minor": 2
}
